{
 "cells": [
  {
   "cell_type": "markdown",
   "metadata": {},
   "source": [
    "# Course Project: Image Analysis for cancer risk assessment (8QA01)"
   ]
  },
  {
   "cell_type": "markdown",
   "metadata": {},
   "source": [
    "\n",
    "Welcome to the project of 8QA01! This notebook contains the steps to go through the images, measure features and display measurements, using functions in the utilities_8qa01.py module. You can add extend this by adding more functions in the module, and calling them from this notebook.\n",
    "\n",
    "\n",
    "Before you start, don't forget to:\n",
    "\n",
    "- Read the README.md file in this repository\n",
    "- Do the \"Getting started\" [essential skills](https://github.com/tueimage/essential-skills) tutorial on Python\n",
    "\n"
   ]
  },
  {
   "cell_type": "markdown",
   "metadata": {},
   "source": [
    "# Step-by-step project walkthrough"
   ]
  },
  {
   "cell_type": "markdown",
   "metadata": {},
   "source": [
    "## 0. Import required python packages\n",
    "\n",
    "These packages contain different functionality, for example matplotlib.pyplot is useful for various visualisation techniques. You can import more packages than these, as long as they are common Python packages, or you include them with your code. \n"
   ]
  },
  {
   "cell_type": "code",
   "execution_count": 1,
   "metadata": {},
   "outputs": [],
   "source": [
    "import os\n",
    "import pandas as pd\n",
    "import numpy as np\n",
    "import matplotlib.pyplot as plt\n",
    "import class2020_group00_functions as util\n",
    "from skimage import morphology\n",
    "from sklearn.model_selection import StratifiedShuffleSplit\n",
    "from sklearn.metrics import accuracy_score"
   ]
  },
  {
   "cell_type": "markdown",
   "metadata": {},
   "source": [
    "## 1. Specify data locations\n",
    "\n",
    "Change the dataFile variable according to the image set you are using "
   ]
  },
  {
   "cell_type": "code",
   "execution_count": 2,
   "metadata": {},
   "outputs": [],
   "source": [
    "dataFile = 'group2019_example_labels.xlsx'\n",
    "imagePath = '..\\..\\..\\Data\\ISIC\\ISIC-2017_Training_Data'\n",
    "maskPath = '..\\..\\..\\Data\\ISIC\\ISIC-2017_Training_Part1_GroundTruth'"
   ]
  },
  {
   "cell_type": "markdown",
   "metadata": {},
   "source": [
    "## 2. Load data"
   ]
  },
  {
   "cell_type": "code",
   "execution_count": 3,
   "metadata": {},
   "outputs": [],
   "source": [
    "dframe = pd.read_excel(dataFile)\n",
    "\n",
    "#print(dframe)"
   ]
  },
  {
   "cell_type": "markdown",
   "metadata": {},
   "source": [
    "## 3. Initialise variables"
   ]
  },
  {
   "cell_type": "code",
   "execution_count": 4,
   "metadata": {},
   "outputs": [],
   "source": [
    "ID = list(dframe['id'])\n",
    "Melanoma = np.array(dframe['melanoma'])\n",
    "numImages = len(ID)\n",
    "featuresArea = np.empty([numImages,1])\n",
    "featuresArea[:] = np.nan\n",
    "featuresPerimeter = np.empty([numImages,1])\n",
    "featuresPerimeter[:] = np.nan\n"
   ]
  },
  {
   "cell_type": "markdown",
   "metadata": {},
   "source": [
    "## 4. Measure features for all images"
   ]
  },
  {
   "cell_type": "code",
   "execution_count": 5,
   "metadata": {},
   "outputs": [],
   "source": [
    "for i in np.arange(numImages):\n",
    "    \n",
    "    # Define filenames related to this image\n",
    "    imFile = imagePath + os.sep + ID[i] + '.jpg'\n",
    "    maskFile = maskPath + os.sep + ID[i] + '_segmentation.png'\n",
    "    \n",
    "    # Read the images with these filenames\n",
    "    im = plt.imread(imFile)\n",
    "    mask = plt.imread(maskFile)\n",
    "    \n",
    "    # Measure features\n",
    "    a, p = util.measureAreaPerimeter(mask)\n",
    "    # xx, yy, zz = util.measureYourOwnFeatures(mask)\n",
    "    \n",
    "    # Store in the variables we created before\n",
    "    featuresArea[i,0] = a\n",
    "    featuresPerimeter[i,0] = p\n",
    "    # featuresOther[i,0] = xx"
   ]
  },
  {
   "cell_type": "markdown",
   "metadata": {},
   "source": [
    "## 5. Save measured data"
   ]
  },
  {
   "cell_type": "code",
   "execution_count": 6,
   "metadata": {},
   "outputs": [],
   "source": [
    "outfile = 'group2019_XY_automatic.csv'\n",
    "outdata = {\"id\": ID, \n",
    "           \"area\": featuresArea.flatten(),\n",
    "           \"perimeter\": featuresPerimeter.flatten()}\n",
    "\n",
    "dframe_out = pd.DataFrame(outdata)\n",
    "dframe_out.to_csv(outfile, index=False)"
   ]
  },
  {
   "cell_type": "markdown",
   "metadata": {},
   "source": [
    "## 6. Display measured data"
   ]
  },
  {
   "cell_type": "code",
   "execution_count": 7,
   "metadata": {},
   "outputs": [
    {
     "data": {
      "text/plain": [
       "<matplotlib.legend.Legend at 0x28b1a369ef0>"
      ]
     },
     "execution_count": 7,
     "metadata": {},
     "output_type": "execute_result"
    },
    {
     "data": {
      "image/png": "[encoded data removed]",
      "text/plain": [
       "<Figure size 576x576 with 1 Axes>"
      ]
     },
     "metadata": {
      "needs_background": "light"
     },
     "output_type": "display_data"
    }
   ],
   "source": [
    "# Load the data you saved, then do some analysis\n",
    "dframe = pd.read_csv(outfile)\n",
    "ID = list(dframe['id'])\n",
    "featuresArea = np.array(dframe['area'])\n",
    "featuresPerimeter = np.array(dframe['perimeter'])\n",
    "\n",
    "# Display the features measured in a scatterplot\n",
    "axs = util.scatter_data(featuresArea, featuresPerimeter, Melanoma)\n",
    "axs.set_xlabel('X1 = Area')\n",
    "axs.set_ylabel('X2 = Perimeter')\n",
    "axs.legend()"
   ]
  },
  {
   "cell_type": "markdown",
   "source": [
    "## 7. Predict labels using measurements"
   ],
   "metadata": {
    "collapsed": false
   }
  },
  {
   "cell_type": "code",
   "execution_count": null,
   "outputs": [],
   "source": [
    "#Define K's that are tested on the validation set and the number of the current fold\n",
    "Validation_K = [4, 5]\n",
    "curr_fold = 0\n",
    "# Load features\n",
    "X = dframe.iloc[:,1:].to_numpy()\n",
    "# Load labels\n",
    "y = Melanoma\n",
    "\n",
    "# Split dataset into 5 different dataset folds for cross-validation\n",
    "kf = StratifiedShuffleSplit(n_splits=5, test_size=0.4, random_state=1)\n",
    "# Predict labels for each fold using the KNN algortihm\n",
    "for train_index, test_val_index in kf.split(X, y):\n",
    "    # Define accuracy score and predictions for test set\n",
    "    Acc_Score = 0\n",
    "    y_pred_test = 0\n",
    "    # split dataset into a train, validation and test dataset\n",
    "    test_index , val_index = np.split(test_val_index, 2)\n",
    "    X_train, X_val, X_test = X[train_index], X[val_index], X[test_index]\n",
    "    y_train, y_val, y_test = y[train_index], y[val_index], y[test_index]\n",
    "    # Generate predictions using knn_classifier for every K\n",
    "    for K in Validation_K:\n",
    "        y_pred_val, y_pred_test_curr = util.knn_classifier(X_train, y_train, X_val, X_test, K)\n",
    "        Curr_Acc = accuracy_score(y_val,y_pred_val)\n",
    "        # If accuracy of the predictions on the validation set is larger than the current accuracy, save predictions\n",
    "        # for test set\n",
    "        if Curr_Acc > Acc_Score:\n",
    "            Acc_Score = Curr_Acc\n",
    "            y_pred_test = y_pred_test_curr\n",
    "    # Add 1 to the number of the current fold and print the accuracy on the test set for the current fold\n",
    "    curr_fold += 1\n",
    "    test_acc = accuracy_score(y_test,y_pred_test)\n",
    "    print('Accuracy of predictions on test set of fold '+ str(curr_fold)+ ': ' + str(test_acc))"
   ],
   "metadata": {
    "collapsed": false,
    "pycharm": {
     "name": "#%%\n"
    }
   }
  }
 ],
 "metadata": {
  "kernelspec": {
   "display_name": "Python 3",
   "language": "python",
   "name": "python3"
  },
  "language_info": {
   "codemirror_mode": {
    "name": "ipython",
    "version": 3
   },
   "file_extension": ".py",
   "mimetype": "text/x-python",
   "name": "python",
   "nbconvert_exporter": "python",
   "pygments_lexer": "ipython3",
   "version": "3.7.3"
  }
 },
 "nbformat": 4,
 "nbformat_minor": 4
}

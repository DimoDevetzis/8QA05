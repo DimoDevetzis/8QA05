{
 "cells": [
  {
   "cell_type": "code",
   "execution_count": 8,
   "metadata": {},
   "outputs": [],
   "source": [
    "import numpy as np\n",
    "import pandas as pd\n",
    "import random as rnd\n",
    "\n",
    "%matplotlib inline\n",
    "import matplotlib as mpl\n",
    "import matplotlib.pyplot as plt\n",
    "import seaborn as sns\n",
    "from mpl_toolkits.mplot3d import Axes3D\n",
    "\n",
    "sns.set()  \n",
    "plt.rcParams['figure.figsize'] = [10, 5] \n",
    "plt.rcParams['lines.markeredgewidth'] = 1  \n",
    "\n",
    "import warnings\n",
    "warnings.filterwarnings(\"ignore\", category=FutureWarning) "
   ]
  },
  {
   "cell_type": "markdown",
   "metadata": {},
   "source": [
    "# normalise function"
   ]
  },
  {
   "cell_type": "code",
   "execution_count": 67,
   "metadata": {},
   "outputs": [],
   "source": [
    "def normalise_data(data_list):\n",
    "    mean = sum(values) / len(values)\n",
    "    variance = 0\n",
    "\n",
    "    for i in values:\n",
    "        variance += (i - mean)**2\n",
    "\n",
    "    std = (variance / (len(values)-1))**0.5\n",
    "    \n",
    "    normalised_data = []\n",
    "    \n",
    "    for j in data_list:\n",
    "        value = (j - mean) / std\n",
    "        normalised_data.append(value)\n",
    "        \n",
    "    return normalised_data"
   ]
  }
 ],
 "metadata": {
  "kernelspec": {
   "display_name": "Python 3",
   "language": "python",
   "name": "python3"
  },
  "language_info": {
   "codemirror_mode": {
    "name": "ipython",
    "version": 3
   },
   "file_extension": ".py",
   "mimetype": "text/x-python",
   "name": "python",
   "nbconvert_exporter": "python",
   "pygments_lexer": "ipython3",
   "version": "3.7.6"
  }
 },
 "nbformat": 4,
 "nbformat_minor": 4
}
